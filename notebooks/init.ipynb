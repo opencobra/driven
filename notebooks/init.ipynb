{
 "cells": [
  {
   "cell_type": "code",
   "execution_count": null,
   "metadata": {},
   "outputs": [],
   "source": [
    "# -*- coding: utf-8 -*-\n",
    "\n",
    "\"\"\"Contains function to perform INIT\"\"\"\n",
    "\n",
    "from __future__ import absolute_import\n",
    "\n",
    "import six\n",
    "\n",
    "def init(model, epsilon, expression_profile=None):\n",
    "    \"\"\"\n",
    "    Integrative Network Inference for Tissues (INIT)[1]\n",
    "    \n",
    "    Parameters\n",
    "    ----------\n",
    "    model: cobra.Model\n",
    "        The constraint-based model to perform INIT on.\n",
    "    epsilon: float\n",
    "        A positive tolerance.\n",
    "    expression_profile: ExpressionProfile\n",
    "        The expression profile of the tissue.\n",
    "        \n",
    "    Returns\n",
    "    -------\n",
    "    \n",
    "    References\n",
    "    ----------\n",
    "    .. [1]  Agren R, Bordel S, Mardinoglu A, Pornputtapong N, Nookaew I, et al. (2012)\n",
    "            Reconstruction of Genome-Scale Active Metabolic Networks for 69 Human Cell\n",
    "            Types and 16 Cancer Types Using INIT.\n",
    "            PLoS Comput Biol 8(5): e1002518.\n",
    "            doi:10.1371/journal.pcbi.1002518\n",
    "    \"\"\"\n",
    "    \n",
    "    assert isinstance(model, cobra.Model)\n",
    "    assert isinstance(epsilon, float)\n",
    "    assert isinstance(expression_profile, ExpressionProfile)\n",
    "    \n",
    "    obj_vars = []\n",
    "    consts = []\n",
    "    \n",
    "    condition = expression_profile.conditions[0] if condition is None else condition\n",
    "    not_measured_value = 0 if not_measured_value is None else not_measured_value\n",
    "    reaction_profile = expression_profile.to_reaction_dict(condition, model, not_measured_value, normalization)\n",
    "    \n",
    "    with model:\n",
    "        prob = model.problem\n",
    "        # Reactions\n",
    "        for rxn_id, rxn_exp in six.iteritems(reaction_profile):\n",
    "            rxn = model.reactions.get_by_id(rxn_id)\n",
    "            y = prob.Variable(\"y_%s\" % rxn_id, type=\"binary\")\n",
    "            const = prob.Constraint(rxn.flux_expression - (1000 * y),\n",
    "                                    ub=0.0, name=\"rxn_const_%s\" % rxn_id)\n",
    "            epsilon_const = prob.Constraint(rxn.flux_expression + (1000 * (1 - y)) - epsilon,\n",
    "                                            lb=0.0, name=\"rxn_epsilon_const_%s\" % rxn_id)\n",
    "            if rxn.reversibility is True:\n",
    "                reversible_rxn_const = prob.Constraint(rxn.flux_expression,\n",
    "                                                       lb=0.0, name=\"rev_rxn_const_%s\" %rxn_id)\n",
    "                consts.extend([y, const, epsilon_const, reversible_rxn_const])\n",
    "            else:\n",
    "                consts.extend([y, const, epsilon_const])\n",
    "            # Metabolites\n",
    "            for met in rxn.metabolites:\n",
    "                x = prob.Variable(\"x_%s_%s\".format(rxn_id, met.id), type=\"binary\")\n",
    "                met_const = prob.Constraint(rxn.metabolites.get_coefficient(met) - (1000 * x),\n",
    "                                              ub=0.0, name=\"met_const_%s_%s\".format(rxn_id, met.id))\n",
    "                met_const_epsilon = prob.Constraint(rxn.metabolites.get_coefficient(met) + (1000 * (1 - x)) - epsilon,\n",
    "                                                    lb=0.0, name=\"met_epsilon_const_%s_%s\".format(rxn_id, met.id))\n",
    "                met_coefficient_const = prob.Constraint(rxn.metbolites.get_coefficient(met),\n",
    "                                                        lb=0.0, name=\"met_coefficient_const_%s_%s\".format(rxn_id, met.id))\n",
    "                consts.extend([met_const, met_const_epsilon, met_coefficient_const])\n",
    "        \n",
    "        model.add_cons_vars(consts)\n",
    "        model.objective = prob.Objective(Zero, sloppy=True, direction=\"max\")\n",
    "        \n",
    "        return model"
   ]
  },
  {
   "cell_type": "code",
   "execution_count": 1,
   "metadata": {},
   "outputs": [],
   "source": [
    "import cobra"
   ]
  },
  {
   "cell_type": "code",
   "execution_count": 2,
   "metadata": {},
   "outputs": [],
   "source": [
    "import cobra.test"
   ]
  },
  {
   "cell_type": "code",
   "execution_count": 3,
   "metadata": {},
   "outputs": [],
   "source": [
    "model = cobra.test.create_test_model(\"ecoli\")"
   ]
  },
  {
   "cell_type": "code",
   "execution_count": 9,
   "metadata": {},
   "outputs": [
    {
     "data": {
      "text/plain": [
       "{<Metabolite 4abut_e at 0x11a618198>: -1.0,\n",
       " <Metabolite 4abut_p at 0x11a6652e8>: 1.0}"
      ]
     },
     "execution_count": 9,
     "metadata": {},
     "output_type": "execute_result"
    }
   ],
   "source": [
    "for i in model.reactions.ABUTtex.metabolites:\n",
    "    print()"
   ]
  },
  {
   "cell_type": "code",
   "execution_count": null,
   "metadata": {},
   "outputs": [],
   "source": []
  }
 ],
 "metadata": {
  "kernelspec": {
   "display_name": "py35-cobra-cplex",
   "language": "python",
   "name": "py35-cobra-cplex"
  },
  "language_info": {
   "codemirror_mode": {
    "name": "ipython",
    "version": 3
   },
   "file_extension": ".py",
   "mimetype": "text/x-python",
   "name": "python",
   "nbconvert_exporter": "python",
   "pygments_lexer": "ipython3",
   "version": "3.5.1"
  }
 },
 "nbformat": 4,
 "nbformat_minor": 2
}
