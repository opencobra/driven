{
 "cells": [
  {
   "cell_type": "code",
   "execution_count": null,
   "metadata": {},
   "outputs": [],
   "source": [
    "# -*- coding: utf-8 -*-\n",
    "\n",
    "\"\"\"Contains function to perform MADE\"\"\"\n",
    "\n",
    "from __future__ import absolute_import\n",
    "\n",
    "def made(model, expression_profile):\n",
    "    \"\"\"\n",
    "    Metabolic Adjustment by Differential Expression (MADE)[1]\n",
    "    \n",
    "    Parameters\n",
    "    ----------\n",
    "    model: cobra.Model\n",
    "        The constraint-based model to perform MADE on.\n",
    "    expression_profile: ExpressionProfile\n",
    "        The expression data to integrate in the model.\n",
    "        \n",
    "    Returns\n",
    "    -------\n",
    "    \n",
    "    References\n",
    "    ----------\n",
    "    .. [1] Paul A. Jensen, Jason A. Papin; Functional integration of a metabolic network\n",
    "           model and expression data without arbitrary thresholding,\n",
    "           Bioinformatics, Volume 27, Issue 4, 15 February 2011, Pages 541–547,\n",
    "           https://doi.org/10.1093/bioinformatics/btq702\n",
    "    \"\"\"\n",
    "    \n",
    "    assert isinstance(model, cobra.Model)\n",
    "    assert isinstance(expression_profile, ExpressionProfile)\n",
    "    \n",
    "    "
   ]
  }
 ],
 "metadata": {
  "kernelspec": {
   "display_name": "py35-cobra-cplex",
   "language": "python",
   "name": "py35-cobra-cplex"
  },
  "language_info": {
   "codemirror_mode": {
    "name": "ipython",
    "version": 3
   },
   "file_extension": ".py",
   "mimetype": "text/x-python",
   "name": "python",
   "nbconvert_exporter": "python",
   "pygments_lexer": "ipython3",
   "version": "3.5.1"
  }
 },
 "nbformat": 4,
 "nbformat_minor": 2
}
