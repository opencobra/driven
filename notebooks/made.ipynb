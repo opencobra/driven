{
 "cells": [
  {
   "cell_type": "code",
   "execution_count": null,
   "metadata": {},
   "outputs": [],
   "source": [
    "# -*- coding: utf-8 -*-\n",
    "\n",
    "\"\"\"Contains function to perform MADE\"\"\"\n",
    "\n",
    "from __future__ import absolute_import\n",
    "\n",
    "import six\n",
    "import numpy as np\n",
    "from optlang.symbolics import Zero\n",
    "\n",
    "\n",
    "def made(model, expression_profile):\n",
    "    \"\"\"\n",
    "    Metabolic Adjustment by Differential Expression (MADE)[1]\n",
    "    \n",
    "    Parameters\n",
    "    ----------\n",
    "    model: cobra.Model\n",
    "        The constraint-based model to perform MADE on.\n",
    "    expression_profile: ExpressionProfile\n",
    "        The expression data to integrate in the model.\n",
    "        \n",
    "    Returns\n",
    "    -------\n",
    "    cobra.Model\n",
    "\n",
    "    References\n",
    "    ----------\n",
    "    .. [1] Paul A. Jensen, Jason A. Papin; Functional integration of a metabolic network\n",
    "           model and expression data without arbitrary thresholding,\n",
    "           Bioinformatics, Volume 27, Issue 4, 15 February 2011, Pages 541–547,\n",
    "           https://doi.org/10.1093/bioinformatics/btq702\n",
    "    \"\"\"\n",
    "    \n",
    "    assert isinstance(model, cobra.Model)\n",
    "    assert isinstance(expression_profile, ExpressionProfile)\n",
    "\n",
    "    # Convert to numpy.ndarray\n",
    "    expression_data = expression_profile.values()\n",
    "    # Obtain the discrete differences of adjacent elements\n",
    "    expression_diffs = np.diff(expression_data)\n",
    "    # Transform the difference values to suit need\n",
    "    conditons = [\n",
    "        expression_diffs > 0.0,\n",
    "        expression_diffs == 0.0,\n",
    "        expression_diffs < 0.0\n",
    "    ]\n",
    "    choices = [1, 0, -1]\n",
    "    binary_diffs = np.select(conditions, choices)\n",
    "    "
   ]
  },
  {
   "cell_type": "code",
   "execution_count": 1,
   "metadata": {},
   "outputs": [],
   "source": [
    "import numpy as np"
   ]
  },
  {
   "cell_type": "code",
   "execution_count": 2,
   "metadata": {},
   "outputs": [],
   "source": [
    "import pandas as pd"
   ]
  },
  {
   "cell_type": "code",
   "execution_count": 5,
   "metadata": {},
   "outputs": [],
   "source": [
    "df = pd.DataFrame({\"0 hrs\": pd.Series([223, 174, 23], index=['input', 'left', 'right']),\n",
    "                   \"2 hrs\": pd.Series([158, 52, 88], index=['input', 'left', 'right']),\n",
    "                   \"4 hrs\": pd.Series([162, 48, 102], index=['input', 'left', 'right'])})"
   ]
  },
  {
   "cell_type": "code",
   "execution_count": 6,
   "metadata": {},
   "outputs": [
    {
     "data": {
      "text/html": [
       "<div>\n",
       "<style scoped>\n",
       "    .dataframe tbody tr th:only-of-type {\n",
       "        vertical-align: middle;\n",
       "    }\n",
       "\n",
       "    .dataframe tbody tr th {\n",
       "        vertical-align: top;\n",
       "    }\n",
       "\n",
       "    .dataframe thead th {\n",
       "        text-align: right;\n",
       "    }\n",
       "</style>\n",
       "<table border=\"1\" class=\"dataframe\">\n",
       "  <thead>\n",
       "    <tr style=\"text-align: right;\">\n",
       "      <th></th>\n",
       "      <th>0 hrs</th>\n",
       "      <th>2 hrs</th>\n",
       "      <th>4 hrs</th>\n",
       "    </tr>\n",
       "  </thead>\n",
       "  <tbody>\n",
       "    <tr>\n",
       "      <th>input</th>\n",
       "      <td>223</td>\n",
       "      <td>158</td>\n",
       "      <td>162</td>\n",
       "    </tr>\n",
       "    <tr>\n",
       "      <th>left</th>\n",
       "      <td>174</td>\n",
       "      <td>52</td>\n",
       "      <td>48</td>\n",
       "    </tr>\n",
       "    <tr>\n",
       "      <th>right</th>\n",
       "      <td>23</td>\n",
       "      <td>88</td>\n",
       "      <td>102</td>\n",
       "    </tr>\n",
       "  </tbody>\n",
       "</table>\n",
       "</div>"
      ],
      "text/plain": [
       "       0 hrs  2 hrs  4 hrs\n",
       "input    223    158    162\n",
       "left     174     52     48\n",
       "right     23     88    102"
      ]
     },
     "execution_count": 6,
     "metadata": {},
     "output_type": "execute_result"
    }
   ],
   "source": [
    "df"
   ]
  },
  {
   "cell_type": "code",
   "execution_count": 7,
   "metadata": {},
   "outputs": [],
   "source": [
    "vals = df.values"
   ]
  },
  {
   "cell_type": "code",
   "execution_count": 8,
   "metadata": {},
   "outputs": [],
   "source": [
    "diffs = np.diff(vals)"
   ]
  },
  {
   "cell_type": "code",
   "execution_count": 9,
   "metadata": {},
   "outputs": [
    {
     "data": {
      "text/plain": [
       "array([[ -65,    4],\n",
       "       [-122,   -4],\n",
       "       [  65,   14]])"
      ]
     },
     "execution_count": 9,
     "metadata": {},
     "output_type": "execute_result"
    }
   ],
   "source": [
    "diffs"
   ]
  },
  {
   "cell_type": "code",
   "execution_count": 10,
   "metadata": {},
   "outputs": [],
   "source": [
    "conditions = [\n",
    "    diffs > 0.0,\n",
    "    diffs == 0.0,\n",
    "    diffs < 0.0\n",
    "]"
   ]
  },
  {
   "cell_type": "code",
   "execution_count": 11,
   "metadata": {},
   "outputs": [],
   "source": [
    "choices = [1, 0, -1]"
   ]
  },
  {
   "cell_type": "code",
   "execution_count": 12,
   "metadata": {},
   "outputs": [],
   "source": [
    "binary_diffs = np.select(conditions, choices)"
   ]
  },
  {
   "cell_type": "code",
   "execution_count": 13,
   "metadata": {},
   "outputs": [
    {
     "data": {
      "text/plain": [
       "array([[-1,  1],\n",
       "       [-1, -1],\n",
       "       [ 1,  1]])"
      ]
     },
     "execution_count": 13,
     "metadata": {},
     "output_type": "execute_result"
    }
   ],
   "source": [
    "binary_diffs"
   ]
  }
 ],
 "metadata": {
  "kernelspec": {
   "display_name": "py35-cobra-cplex",
   "language": "python",
   "name": "py35-cobra-cplex"
  },
  "language_info": {
   "codemirror_mode": {
    "name": "ipython",
    "version": 3
   },
   "file_extension": ".py",
   "mimetype": "text/x-python",
   "name": "python",
   "nbconvert_exporter": "python",
   "pygments_lexer": "ipython3",
   "version": "3.5.1"
  }
 },
 "nbformat": 4,
 "nbformat_minor": 2
}
