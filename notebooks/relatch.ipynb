{
 "cells": [
  {
   "cell_type": "code",
   "execution_count": null,
   "metadata": {},
   "outputs": [],
   "source": [
    "# -*- coding: utf-8 -*-\n",
    "\n",
    "\"\"\"Contains function to perform RELATCH\"\"\"\n",
    "\n",
    "from __future__ import absolute_import\n",
    "\n",
    "def relatch(model, expression_profile):\n",
    "    \"\"\"\n",
    "    RELAtive CHange (RELATCH)[1]\n",
    "    \n",
    "    Parameters\n",
    "    ----------\n",
    "    model: cobra.Model\n",
    "        The constraint-based model to perform RELATCH on.\n",
    "    expression_profile: ExpressionProfile\n",
    "        The expression profile to integrate in the model.\n",
    "        \n",
    "    Returns\n",
    "    -------\n",
    "    \n",
    "    References\n",
    "    ----------\n",
    "    .. [1] Kim and Reed: \n",
    "           RELATCH: relative optimality in metabolic networks explains robust metabolic and\n",
    "           regulatory responses to perturbations.\n",
    "           Genome Biology 2012 13:R78. \n",
    "           doi:10.1186/gb-2012-13-9-r78\n",
    "    \"\"\"\n",
    "    assert isinstance(model, cobra.Model)\n",
    "    assert isinstance(expression_profile, ExpressionProfile)"
   ]
  }
 ],
 "metadata": {
  "kernelspec": {
   "display_name": "py35-cobra-cplex",
   "language": "python",
   "name": "py35-cobra-cplex"
  },
  "language_info": {
   "codemirror_mode": {
    "name": "ipython",
    "version": 3
   },
   "file_extension": ".py",
   "mimetype": "text/x-python",
   "name": "python",
   "nbconvert_exporter": "python",
   "pygments_lexer": "ipython3",
   "version": "3.5.1"
  }
 },
 "nbformat": 4,
 "nbformat_minor": 2
}
