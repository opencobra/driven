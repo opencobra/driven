{
 "cells": [
  {
   "cell_type": "code",
   "execution_count": 13,
   "metadata": {},
   "outputs": [],
   "source": [
    "# -*- coding: utf8 -*-\n",
    "\n",
    "\"\"\"Contains function to perform GX-FBA\"\"\"\n",
    "\n",
    "from __future__ import absolute_import\n",
    "\n",
    "import six\n",
    "import numpy as np\n",
    "from optlang.symbolics import Zero\n",
    "from cobra.flux_analysis import flux_variability_analysis as fva\n",
    "\n",
    "\n",
    "def gx_fba(model, expression_profile, conditon=None, reg_threshold=0.5, flux_threshold=100.0):\n",
    "    \"\"\"\n",
    "    GX-FBA[1]\n",
    "    \n",
    "    Parameters\n",
    "    ----------\n",
    "    model: cobra.Model\n",
    "        The constraint-based model to perform GX-FBA on.\n",
    "    expression_profile: ExpressionProfile\n",
    "        The expression profile to integrate in the model.\n",
    "    condition: str or int, optional\n",
    "        The condition from the expression profile.\n",
    "    reg_threshold: float, optional (default 0.5)\n",
    "        The minumum fold change to be considered for up or down regulation.\n",
    "    flux_threshold: float, optional (default 100.0)\n",
    "        The maximum flux value to be considered for a reaction. If not obeyed\n",
    "        by reaction, it is discarded from analysis.\n",
    "    \n",
    "    Returns\n",
    "    -------\n",
    "    model, cobra.Solution\n",
    "    \n",
    "    References\n",
    "    ----------\n",
    "    .. [1] Navid and Almaas (2012).\n",
    "           Genome-level transcription data of Yersinia pestis analyzed with a New metabolic constraint-based approach.\n",
    "           BMC Systems Biology 2012 6:150.\n",
    "           doi:10.1186/1752-0509-6-150\n",
    "    \"\"\"\n",
    "    \n",
    "    assert isinstance(model, cobra.Model)\n",
    "    assert isinstance(expression_profile, ExpressionProfile)\n",
    "    assert isinstance(condition, (str, int, None))\n",
    "    assert isinstance(reg_threshold, float)\n",
    "    assert isinstance(flux_threshold, float)\n",
    "\n",
    "    with model:\n",
    "        prob = model.problem\n",
    "        # Changing the LP solution method to Interior Point\n",
    "        model.solver.configuration.lp_method = \"barrier\"\n",
    "        # Wild-type flux distribution\n",
    "        sol_wt = model.optimize()\n",
    "        # Flux variability analysis\n",
    "        #TODO: Make minimal flux of biomass to zero for calculation\n",
    "        fva_sol = fva(model)\n",
    "        # Mean possible flux for each reaction\n",
    "        fva_mean = fva_sol.mean(axis=1)\n",
    "        # Avg. flux carried by active reactions\n",
    "        avg_flux = fva_mean.mean()\n",
    "        \n",
    "        #TODO: Convert incoming expression profile conditions to log2(exp)\n",
    "        condition = expression_profile.conditions[0] if condition is None else condition\n",
    "        reaction_profile = expression_profile.to_reaction_dict(condition, model, not_measured_value, normalization)\n",
    "        \n",
    "        obj_vars = []\n",
    "        for rxn_id, rxn_exp in six.iteritems(reaction_profile):\n",
    "            rxn = model.reactions.get_by_id(rxn_id)\n",
    "            if rxn not in model.exchanges and rxn.reversibility is False \\\n",
    "                and fva_mean[rxn_id] > flux_threshold:\n",
    "                if rxn_exp > 0.0:\n",
    "                    rxn.upper_bound = rxn_exp * rxn.flux_expression\n",
    "                elif rxn_exp < 0.0:\n",
    "                    rxn.lower_bound = rxn_exp * rxn.flux_expression\n",
    "                \n",
    "                obj_var = prob.Variable(rxn_exp * (rxn.flux_expression / fva_mean[rxn_id]))\n",
    "                obj_vars.append(obj_var)\n",
    "                \n",
    "        model.add_cons_vars(obj_vars)\n",
    "        model.objective = prob.Objective(Zero, direction=\"max\", sloppy=True)\n",
    "        model.objective.set_linear_coefficients({v: 1.0 for v in obj_vars})\n",
    "        \n",
    "        solution = model.optimize()\n",
    "        \n",
    "        return (model, solution)"
   ]
  },
  {
   "cell_type": "code",
   "execution_count": 1,
   "metadata": {},
   "outputs": [],
   "source": [
    "import cobra.test"
   ]
  },
  {
   "cell_type": "code",
   "execution_count": 2,
   "metadata": {},
   "outputs": [],
   "source": [
    "import cobra"
   ]
  },
  {
   "cell_type": "code",
   "execution_count": 3,
   "metadata": {},
   "outputs": [],
   "source": [
    "model = cobra.test.create_test_model(\"textbook\")"
   ]
  },
  {
   "cell_type": "code",
   "execution_count": 4,
   "metadata": {},
   "outputs": [],
   "source": [
    "sol_wt = model.optimize()"
   ]
  },
  {
   "cell_type": "code",
   "execution_count": 5,
   "metadata": {},
   "outputs": [],
   "source": [
    "fva_sol = cobra.flux_analysis.flux_variability_analysis(model)"
   ]
  },
  {
   "cell_type": "code",
   "execution_count": 7,
   "metadata": {},
   "outputs": [
    {
     "data": {
      "text/plain": [
       "1.0*Biomass_Ecoli_core - 1.0*Biomass_Ecoli_core_reverse_2cdba"
      ]
     },
     "execution_count": 7,
     "metadata": {},
     "output_type": "execute_result"
    }
   ],
   "source": [
    "model.objective.expression"
   ]
  },
  {
   "cell_type": "code",
   "execution_count": 17,
   "metadata": {},
   "outputs": [
    {
     "data": {
      "text/plain": [
       "0.8739215069684307"
      ]
     },
     "execution_count": 17,
     "metadata": {},
     "output_type": "execute_result"
    }
   ],
   "source": [
    "fva_sol.maximum[\"Biomass_Ecoli_core\"]"
   ]
  },
  {
   "cell_type": "code",
   "execution_count": 18,
   "metadata": {},
   "outputs": [
    {
     "data": {
      "text/html": [
       "\n",
       "        <table>\n",
       "            <tr>\n",
       "                <td><strong>Reaction identifier</strong></td><td>Biomass_Ecoli_core</td>\n",
       "            </tr><tr>\n",
       "                <td><strong>Name</strong></td><td>Biomass Objective Function with GAM</td>\n",
       "            </tr><tr>\n",
       "                <td><strong>Memory address</strong></td>\n",
       "                <td>0x0118d79710</td>\n",
       "            </tr><tr>\n",
       "                <td><strong>Stoichiometry</strong></td>\n",
       "                <td>\n",
       "                    <p style='text-align:right'>1.496 3pg_c + 3.7478 accoa_c + 59.81 atp_c + 0.361 e4p_c + 0.0709 f6p_c + 0.129 g3p_c + 0.205 g6p_c + 0.2557 gln__L_c + 4.9414 glu__L_c + 59.81 h2o_c + 3.547 nad_c + 13.0279 nadph_c + 1.7867 oaa_c ...</p>\n",
       "                    <p style='text-align:right'>1.496 3-Phospho-D-glycerate + 3.7478 Acetyl-CoA + 59.81 ATP + 0.361 D-Erythrose 4-phosphate + 0.0709 D-Fructose 6-phosphate + 0.129 Glyceraldehyde 3-phosphate + 0.205 D-Glucose 6-phosphate + 0.2557...</p>\n",
       "                </td>\n",
       "            </tr><tr>\n",
       "                <td><strong>GPR</strong></td><td></td>\n",
       "            </tr><tr>\n",
       "                <td><strong>Lower bound</strong></td><td>0.0</td>\n",
       "            </tr><tr>\n",
       "                <td><strong>Upper bound</strong></td><td>1000.0</td>\n",
       "            </tr>\n",
       "        </table>\n",
       "        "
      ],
      "text/plain": [
       "<Reaction Biomass_Ecoli_core at 0x118d79710>"
      ]
     },
     "execution_count": 18,
     "metadata": {},
     "output_type": "execute_result"
    }
   ],
   "source": [
    "model.reactions.Biomass_Ecoli_core"
   ]
  },
  {
   "cell_type": "code",
   "execution_count": 7,
   "metadata": {},
   "outputs": [
    {
     "data": {
      "text/html": [
       "<strong><em>Optimal</em> solution with objective value 0.874</strong><br><div>\n",
       "<style scoped>\n",
       "    .dataframe tbody tr th:only-of-type {\n",
       "        vertical-align: middle;\n",
       "    }\n",
       "\n",
       "    .dataframe tbody tr th {\n",
       "        vertical-align: top;\n",
       "    }\n",
       "\n",
       "    .dataframe thead th {\n",
       "        text-align: right;\n",
       "    }\n",
       "</style>\n",
       "<table border=\"1\" class=\"dataframe\">\n",
       "  <thead>\n",
       "    <tr style=\"text-align: right;\">\n",
       "      <th></th>\n",
       "      <th>fluxes</th>\n",
       "      <th>reduced_costs</th>\n",
       "    </tr>\n",
       "  </thead>\n",
       "  <tbody>\n",
       "    <tr>\n",
       "      <th>ACALD</th>\n",
       "      <td>0.000000</td>\n",
       "      <td>6.938894e-18</td>\n",
       "    </tr>\n",
       "    <tr>\n",
       "      <th>ACALDt</th>\n",
       "      <td>0.000000</td>\n",
       "      <td>0.000000e+00</td>\n",
       "    </tr>\n",
       "    <tr>\n",
       "      <th>ACKr</th>\n",
       "      <td>0.000000</td>\n",
       "      <td>1.040834e-17</td>\n",
       "    </tr>\n",
       "    <tr>\n",
       "      <th>ACONTa</th>\n",
       "      <td>6.007250</td>\n",
       "      <td>0.000000e+00</td>\n",
       "    </tr>\n",
       "    <tr>\n",
       "      <th>ACONTb</th>\n",
       "      <td>6.007250</td>\n",
       "      <td>1.387779e-17</td>\n",
       "    </tr>\n",
       "    <tr>\n",
       "      <th>...</th>\n",
       "      <td>...</td>\n",
       "      <td>...</td>\n",
       "    </tr>\n",
       "    <tr>\n",
       "      <th>TALA</th>\n",
       "      <td>1.496984</td>\n",
       "      <td>-2.775558e-17</td>\n",
       "    </tr>\n",
       "    <tr>\n",
       "      <th>THD2</th>\n",
       "      <td>0.000000</td>\n",
       "      <td>-2.546243e-03</td>\n",
       "    </tr>\n",
       "    <tr>\n",
       "      <th>TKT1</th>\n",
       "      <td>1.496984</td>\n",
       "      <td>-1.387779e-17</td>\n",
       "    </tr>\n",
       "    <tr>\n",
       "      <th>TKT2</th>\n",
       "      <td>1.181498</td>\n",
       "      <td>1.387779e-17</td>\n",
       "    </tr>\n",
       "    <tr>\n",
       "      <th>TPI</th>\n",
       "      <td>7.477382</td>\n",
       "      <td>-6.938894e-18</td>\n",
       "    </tr>\n",
       "  </tbody>\n",
       "</table>\n",
       "<p>95 rows × 2 columns</p>\n",
       "</div>"
      ],
      "text/plain": [
       "<Solution 0.874 at 0x1191309b0>"
      ]
     },
     "execution_count": 7,
     "metadata": {},
     "output_type": "execute_result"
    }
   ],
   "source": [
    "sol_wt"
   ]
  },
  {
   "cell_type": "code",
   "execution_count": 8,
   "metadata": {},
   "outputs": [],
   "source": [
    "fva_mean = fva_sol.mean(axis=1)"
   ]
  },
  {
   "cell_type": "code",
   "execution_count": 9,
   "metadata": {},
   "outputs": [],
   "source": [
    "avg_flux = fva_mean.mean()"
   ]
  },
  {
   "cell_type": "code",
   "execution_count": 10,
   "metadata": {},
   "outputs": [
    {
     "data": {
      "text/plain": [
       "4.844711052085257e-15"
      ]
     },
     "execution_count": 10,
     "metadata": {},
     "output_type": "execute_result"
    }
   ],
   "source": [
    "fva_mean[\"ACALD\"]"
   ]
  },
  {
   "cell_type": "code",
   "execution_count": 11,
   "metadata": {},
   "outputs": [],
   "source": [
    "import numpy as np"
   ]
  },
  {
   "cell_type": "code",
   "execution_count": 18,
   "metadata": {},
   "outputs": [
    {
     "data": {
      "text/plain": [
       "ACALD          0.0\n",
       "ACALDt         0.0\n",
       "ACKr           0.0\n",
       "ACt2r          0.0\n",
       "ADK1           0.0\n",
       "AKGt2r         0.0\n",
       "ALCD2x         0.0\n",
       "D_LACt2        0.0\n",
       "ETOHt2r        0.0\n",
       "EX_ac_e        0.0\n",
       "EX_acald_e     0.0\n",
       "EX_akg_e       0.0\n",
       "EX_etoh_e      0.0\n",
       "EX_for_e       0.0\n",
       "EX_fru_e       0.0\n",
       "EX_fum_e       0.0\n",
       "EX_gln__L_e    0.0\n",
       "EX_glu__L_e    0.0\n",
       "EX_lac__D_e    0.0\n",
       "EX_mal__L_e    0.0\n",
       "EX_pyr_e       0.0\n",
       "EX_succ_e      0.0\n",
       "FBP            0.0\n",
       "FORt2          0.0\n",
       "FORti          0.0\n",
       "FRD7           0.0\n",
       "FRUpts2        0.0\n",
       "FUMt2_2        0.0\n",
       "GLUN           0.0\n",
       "GLUSy          0.0\n",
       "GLUt2r         0.0\n",
       "ICL            0.0\n",
       "LDH_D          0.0\n",
       "MALS           0.0\n",
       "MALt2_2        0.0\n",
       "ME1            0.0\n",
       "ME2            0.0\n",
       "NADTRHD        0.0\n",
       "PFL            0.0\n",
       "PPCK           0.0\n",
       "PPS            0.0\n",
       "PTAr           0.0\n",
       "PYRt2          0.0\n",
       "SUCCt2_2       0.0\n",
       "SUCCt3         0.0\n",
       "THD2           0.0\n",
       "Name: fluxes, dtype: float64"
      ]
     },
     "execution_count": 18,
     "metadata": {},
     "output_type": "execute_result"
    }
   ],
   "source": [
    "sol_wt.fluxes[sol_wt.fluxes == 0.0]"
   ]
  },
  {
   "cell_type": "code",
   "execution_count": null,
   "metadata": {},
   "outputs": [],
   "source": []
  }
 ],
 "metadata": {
  "kernelspec": {
   "display_name": "py35-cobra-cplex",
   "language": "python",
   "name": "py35-cobra-cplex"
  },
  "language_info": {
   "codemirror_mode": {
    "name": "ipython",
    "version": 3
   },
   "file_extension": ".py",
   "mimetype": "text/x-python",
   "name": "python",
   "nbconvert_exporter": "python",
   "pygments_lexer": "ipython3",
   "version": "3.5.1"
  }
 },
 "nbformat": 4,
 "nbformat_minor": 2
}
