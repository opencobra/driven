{
 "cells": [
  {
   "cell_type": "code",
   "execution_count": 13,
   "metadata": {},
   "outputs": [],
   "source": [
    "# -*- coding: utf8 -*-\n",
    "\n",
    "\"\"\"Contains function to perform GX-FBA\"\"\"\n",
    "\n",
    "from __future__ import absolute_import\n",
    "\n",
    "import six\n",
    "from optlang.symbolics import Zero\n",
    "from cobra.flux_analysis import flux_variability_analysis as fva\n",
    "\n",
    "\n",
    "def gx_fba(model, expression_profile, conditon=None, reg_threshold=0.5, flux_threshold=100.0):\n",
    "    \"\"\"\n",
    "    GX-FBA[1]\n",
    "    \n",
    "    Parameters\n",
    "    ----------\n",
    "    model: cobra.Model\n",
    "        The constraint-based model to perform GX-FBA on.\n",
    "    expression_profile: ExpressionProfile\n",
    "        The expression profile to integrate in the model.\n",
    "    conditions: str or int, optional\n",
    "        The condition from the expression profile.\n",
    "    reg_threshold: float, optional (default 0.5)\n",
    "        The minumum fold change to be considered for up or down regulation.\n",
    "    flux_threshold: float, optional (default 100.0)\n",
    "        The maximum flux value to be considered for a reaction. if not obeyed\n",
    "        by reaction, it is discarded from analysis.\n",
    "    \n",
    "    Returns\n",
    "    -------\n",
    "    model, cobra.Solution\n",
    "    \n",
    "    References\n",
    "    ----------\n",
    "    .. [1] Navid and Almaas (2012).\n",
    "           Genome-level transcription data of Yersinia pestis analyzed with a New metabolic constraint-based approach.\n",
    "           BMC Systems Biology 2012 6:150.\n",
    "           doi:10.1186/1752-0509-6-150\n",
    "    \"\"\"\n",
    "    \n",
    "    assert isinstance(model, cobra.Model)\n",
    "    assert isinstance(expression_profile, ExpressionProfile)\n",
    "    assert isinstance(condition, (str, int, None))\n",
    "    assert isinstance(threshold, float)\n",
    "    \n",
    "    with model:\n",
    "        prob = model.problem\n",
    "        # Wild-type flux distribution\n",
    "        sol_wt = model.optimize()\n",
    "        # Flux variability analysis\n",
    "        fva_sol = fva(model)\n",
    "        # Mean possible flux for each reaction\n",
    "        fva_mean = fva_sol.mean(axis=1)\n",
    "        # Avg. flux carried by active reactions\n",
    "        avg_flux = fva_mean.mean()\n",
    "        \n",
    "        condition = expression_profile.conditions[0] if condition is None else condition\n",
    "        reaction_profile = expression_profile.to_reaction_dict(condition, model, not_measured_value, normalization)\n",
    "        \n",
    "        obj_vars = []\n",
    "        for rxn_id, rxn_exp in six.iteritems(reaction_profile):\n",
    "            rxn = model.reactions.get_by_id(rxn_id)\n",
    "            if rxn not in model.exchanges and rxn.reversibility is False \\\n",
    "                and fva_mean[rxn_id] > flux_threshold:\n",
    "                if rxn_exp > 0:\n",
    "                    rxn.upper_bound = rxn_exp * fva_mean[rxn_id]\n",
    "                elif rxn_exp < 0:\n",
    "                    rxn.lower_bound = rxn_exp * fva_mean[rxn_id]\n",
    "                \n",
    "                obj_var = prob.Variable(np.log2(rxn_exp) * (rxn.flux_expression / fva_mean[rxn_id]))\n",
    "                obj_vars.append(var)\n",
    "                \n",
    "        model.add_cons_vars(obj_vars)\n",
    "        model.objective = prob.Objective(Zero, direction=\"max\", sloppy=True)\n",
    "        model.objective.set_linear_coefficients({v: 1.0 for v in obj_vars})\n",
    "        \n",
    "        solution = model.optimize()\n",
    "        \n",
    "        return (model, solution)"
   ]
  },
  {
   "cell_type": "code",
   "execution_count": 1,
   "metadata": {},
   "outputs": [],
   "source": [
    "import cobra.test"
   ]
  },
  {
   "cell_type": "code",
   "execution_count": 2,
   "metadata": {},
   "outputs": [],
   "source": [
    "import cobra"
   ]
  },
  {
   "cell_type": "code",
   "execution_count": 3,
   "metadata": {},
   "outputs": [],
   "source": [
    "model = cobra.test.create_test_model(\"textbook\")"
   ]
  },
  {
   "cell_type": "code",
   "execution_count": 4,
   "metadata": {},
   "outputs": [],
   "source": [
    "sol_wt = model.optimize()"
   ]
  },
  {
   "cell_type": "code",
   "execution_count": 5,
   "metadata": {},
   "outputs": [],
   "source": [
    "fva_sol = cobra.flux_analysis.flux_variability_analysis(model)"
   ]
  },
  {
   "cell_type": "code",
   "execution_count": 6,
   "metadata": {},
   "outputs": [
    {
     "data": {
      "text/html": [
       "<strong><em>Optimal</em> solution with objective value 0.874</strong><br><div>\n",
       "<style scoped>\n",
       "    .dataframe tbody tr th:only-of-type {\n",
       "        vertical-align: middle;\n",
       "    }\n",
       "\n",
       "    .dataframe tbody tr th {\n",
       "        vertical-align: top;\n",
       "    }\n",
       "\n",
       "    .dataframe thead th {\n",
       "        text-align: right;\n",
       "    }\n",
       "</style>\n",
       "<table border=\"1\" class=\"dataframe\">\n",
       "  <thead>\n",
       "    <tr style=\"text-align: right;\">\n",
       "      <th></th>\n",
       "      <th>fluxes</th>\n",
       "      <th>reduced_costs</th>\n",
       "    </tr>\n",
       "  </thead>\n",
       "  <tbody>\n",
       "    <tr>\n",
       "      <th>ACALD</th>\n",
       "      <td>0.000000</td>\n",
       "      <td>6.938894e-18</td>\n",
       "    </tr>\n",
       "    <tr>\n",
       "      <th>ACALDt</th>\n",
       "      <td>0.000000</td>\n",
       "      <td>0.000000e+00</td>\n",
       "    </tr>\n",
       "    <tr>\n",
       "      <th>ACKr</th>\n",
       "      <td>0.000000</td>\n",
       "      <td>1.040834e-17</td>\n",
       "    </tr>\n",
       "    <tr>\n",
       "      <th>ACONTa</th>\n",
       "      <td>6.007250</td>\n",
       "      <td>0.000000e+00</td>\n",
       "    </tr>\n",
       "    <tr>\n",
       "      <th>ACONTb</th>\n",
       "      <td>6.007250</td>\n",
       "      <td>1.387779e-17</td>\n",
       "    </tr>\n",
       "    <tr>\n",
       "      <th>...</th>\n",
       "      <td>...</td>\n",
       "      <td>...</td>\n",
       "    </tr>\n",
       "    <tr>\n",
       "      <th>TALA</th>\n",
       "      <td>1.496984</td>\n",
       "      <td>-2.775558e-17</td>\n",
       "    </tr>\n",
       "    <tr>\n",
       "      <th>THD2</th>\n",
       "      <td>0.000000</td>\n",
       "      <td>-2.546243e-03</td>\n",
       "    </tr>\n",
       "    <tr>\n",
       "      <th>TKT1</th>\n",
       "      <td>1.496984</td>\n",
       "      <td>-1.387779e-17</td>\n",
       "    </tr>\n",
       "    <tr>\n",
       "      <th>TKT2</th>\n",
       "      <td>1.181498</td>\n",
       "      <td>1.387779e-17</td>\n",
       "    </tr>\n",
       "    <tr>\n",
       "      <th>TPI</th>\n",
       "      <td>7.477382</td>\n",
       "      <td>-6.938894e-18</td>\n",
       "    </tr>\n",
       "  </tbody>\n",
       "</table>\n",
       "<p>95 rows × 2 columns</p>\n",
       "</div>"
      ],
      "text/plain": [
       "<Solution 0.874 at 0x1185ba438>"
      ]
     },
     "execution_count": 6,
     "metadata": {},
     "output_type": "execute_result"
    }
   ],
   "source": [
    "sol_wt"
   ]
  },
  {
   "cell_type": "code",
   "execution_count": 7,
   "metadata": {},
   "outputs": [],
   "source": [
    "fva_mean = fva_sol.mean(axis=1)"
   ]
  },
  {
   "cell_type": "code",
   "execution_count": 8,
   "metadata": {},
   "outputs": [],
   "source": [
    "avg_flux = fva_mean.mean()"
   ]
  },
  {
   "cell_type": "code",
   "execution_count": 9,
   "metadata": {},
   "outputs": [],
   "source": [
    "import numpy as np"
   ]
  },
  {
   "cell_type": "code",
   "execution_count": 11,
   "metadata": {},
   "outputs": [
    {
     "data": {
      "text/plain": [
       "array([-3.32192809,  1.32192809,  2.86789646])"
      ]
     },
     "execution_count": 11,
     "metadata": {},
     "output_type": "execute_result"
    }
   ],
   "source": [
    "np.log2([0.1, 2.5, 7.3])"
   ]
  },
  {
   "cell_type": "code",
   "execution_count": 12,
   "metadata": {},
   "outputs": [
    {
     "data": {
      "text/plain": [
       "True"
      ]
     },
     "execution_count": 12,
     "metadata": {},
     "output_type": "execute_result"
    }
   ],
   "source": [
    "model.reactions.ACALDt not in model.exchanges"
   ]
  }
 ],
 "metadata": {
  "kernelspec": {
   "display_name": "py35-cobra-cplex",
   "language": "python",
   "name": "py35-cobra-cplex"
  },
  "language_info": {
   "codemirror_mode": {
    "name": "ipython",
    "version": 3
   },
   "file_extension": ".py",
   "mimetype": "text/x-python",
   "name": "python",
   "nbconvert_exporter": "python",
   "pygments_lexer": "ipython3",
   "version": "3.5.1"
  }
 },
 "nbformat": 4,
 "nbformat_minor": 2
}
