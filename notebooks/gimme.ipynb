{
 "cells": [
  {
   "cell_type": "code",
   "execution_count": 1,
   "metadata": {
    "slideshow": {
     "slide_type": "-"
    }
   },
   "outputs": [
    {
     "ename": "ImportError",
     "evalue": "No module named 'driven'",
     "output_type": "error",
     "traceback": [
      "\u001b[0;31m---------------------------------------------------------------------------\u001b[0m",
      "\u001b[0;31mImportError\u001b[0m                               Traceback (most recent call last)",
      "\u001b[0;32m<ipython-input-1-9e2fdb44a626>\u001b[0m in \u001b[0;36m<module>\u001b[0;34m()\u001b[0m\n\u001b[1;32m      8\u001b[0m \u001b[0;32mfrom\u001b[0m \u001b[0moptlang\u001b[0m\u001b[0;34m.\u001b[0m\u001b[0msymbolics\u001b[0m \u001b[0;32mimport\u001b[0m \u001b[0mZero\u001b[0m\u001b[0;34m\u001b[0m\u001b[0m\n\u001b[1;32m      9\u001b[0m \u001b[0;34m\u001b[0m\u001b[0m\n\u001b[0;32m---> 10\u001b[0;31m \u001b[0;32mfrom\u001b[0m \u001b[0mdriven\u001b[0m\u001b[0;34m.\u001b[0m\u001b[0mdata_sets\u001b[0m \u001b[0;32mimport\u001b[0m \u001b[0mExpressionProfile\u001b[0m\u001b[0;34m\u001b[0m\u001b[0m\n\u001b[0m\u001b[1;32m     11\u001b[0m \u001b[0;34m\u001b[0m\u001b[0m\n\u001b[1;32m     12\u001b[0m \u001b[0;34m\u001b[0m\u001b[0m\n",
      "\u001b[0;31mImportError\u001b[0m: No module named 'driven'"
     ]
    }
   ],
   "source": [
    "# -*- coding: utf-8 -*-\n",
    "\n",
    "\"\"\"Contains function to perform GIMME\"\"\"\n",
    "\n",
    "from __future__ import absolute_import\n",
    "\n",
    "import six\n",
    "from optlang.symbolics import Zero\n",
    "\n",
    "from driven.data_sets import ExpressionProfile\n",
    "\n",
    "\n",
    "def gimme(model, expression_profile, fraction_of_optimum=0.9, condition=None):\n",
    "    \"\"\"\n",
    "    Gene Inactivity Moderated by Metabolism and Expression (GIMME)[1]\n",
    "\n",
    "    Parameters\n",
    "    ----------\n",
    "    model: cobra.Model\n",
    "        A constraint-based model to perform GIMME on.\n",
    "    expression_profile: ExpressionProfile\n",
    "        An expression profile to integrate in the model.\n",
    "    fraction_of_optimum: float\n",
    "        The fraction of the Required Metabolic Functionalities.\n",
    "    condition: str or int, optional (default None)\n",
    "        The condition from the expression profile. If None, the first condition is used.\n",
    "\n",
    "    Returns\n",
    "    -------\n",
    "    context-specific model: cobra.Model\n",
    "    inconsistency score: float\n",
    "\n",
    "    References\n",
    "    ----------\n",
    "    .. [1] Becker, S. a and Palsson, B. O. (2008).\n",
    "           Context-specific metabolic networks are consistent with experiments.\n",
    "           PLoS Computational Biology, 4(5), e1000082.\n",
    "           doi:10.1371/journal.pcbi.1000082\n",
    "    \"\"\"\n",
    "\n",
    "    assert isinstance(model, cobra.Model)\n",
    "    assert isinstance(expression_profile, ExpressionProfile)\n",
    "    assert isinstance(fraction_of_optimum, float)\n",
    "    assert isinstance(condition, (str, int, None))\n",
    "\n",
    "    with model:\n",
    "        prob = model.problem\n",
    "        condition = expression_profile.conditions[0] if condition is None else condition\n",
    "        reaction_profile = expression_profile.to_reaction_dict(condition, model, not_measured_value, normalization)\n",
    "\n",
    "        if model.objective_direction == 'max':\n",
    "            fix_obj_const = prob.Constraint(model.objective.expression,\n",
    "                                            lb=fraction_of_optimum * solution.objective_value,\n",
    "                                            name=\"Required Metabolic Functionalities\")\n",
    "        else:\n",
    "            fix_obj_const = prob.Constraint(model.objective.expression,\n",
    "                                            ub=fraction_of_optimum * solution.objective_value,\n",
    "                                            name=\"Required Metabolic Functionalities\")\n",
    "\n",
    "        model.add_cons_vars(fix_obj_const)\n",
    "        \n",
    "        coefficients = {r: cutoff - exp if cutoff > exp else 0 for r, exp in six.iteritems(reaction_profile)}\n",
    "        obj_vars = []\n",
    "        for rxn_id, coefficient in six.iteritems(coefficients):\n",
    "            rxn = model.reactions.get_by_id(rxn_id)\n",
    "            if coefficient > 0:\n",
    "                obj_vars.append(coefficient * rxn.flux_expression)\n",
    "\n",
    "        model.objective = prob.Objective(Zero, sloppy=True, direction=\"min\")\n",
    "        model.objective.set_linear_coefficients({v: 1.0 for v in obj_vars})\n",
    "        \n",
    "        sol = model.slim_optimize()\n",
    "        \n",
    "        return (model, sol)"
   ]
  }
 ],
 "metadata": {
  "kernelspec": {
   "display_name": "py35-cobra-cplex",
   "language": "python",
   "name": "py35-cobra-cplex"
  },
  "language_info": {
   "codemirror_mode": {
    "name": "ipython",
    "version": 3
   },
   "file_extension": ".py",
   "mimetype": "text/x-python",
   "name": "python",
   "nbconvert_exporter": "python",
   "pygments_lexer": "ipython3",
   "version": "3.5.1"
  }
 },
 "nbformat": 4,
 "nbformat_minor": 2
}
