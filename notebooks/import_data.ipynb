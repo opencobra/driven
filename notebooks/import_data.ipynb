{
 "cells": [
  {
   "cell_type": "markdown",
   "metadata": {},
   "source": [
    "# Importing expression data"
   ]
  },
  {
   "cell_type": "markdown",
   "metadata": {},
   "source": [
    "We looked at how to create an `ExpressionProfile` in the previous section. But, most of the time, we are required to analyse data stored in CSV (Comma-Separated Values) or TSV (Tab-separated values) files. `ExpressionProfile` has tight integration with `pandas.DataFrame` thus easing the process of accessing from and storing to these files."
   ]
  },
  {
   "cell_type": "markdown",
   "metadata": {},
   "source": [
    "## Loading data from .csv files"
   ]
  },
  {
   "cell_type": "code",
   "execution_count": 1,
   "metadata": {},
   "outputs": [
    {
     "data": {
      "text/html": [
       "<div>\n",
       "<style scoped>\n",
       "    .dataframe tbody tr th:only-of-type {\n",
       "        vertical-align: middle;\n",
       "    }\n",
       "\n",
       "    .dataframe tbody tr th {\n",
       "        vertical-align: top;\n",
       "    }\n",
       "\n",
       "    .dataframe thead th {\n",
       "        text-align: right;\n",
       "    }\n",
       "</style>\n",
       "<table border=\"1\" class=\"dataframe\">\n",
       "  <thead>\n",
       "    <tr style=\"text-align: right;\">\n",
       "      <th></th>\n",
       "      <th>0 hr</th>\n",
       "      <th>2 hrs</th>\n",
       "      <th>4 hrs</th>\n",
       "      <th>0 hr 2 hrs p-value</th>\n",
       "      <th>0 hr 4 hrs p-value</th>\n",
       "      <th>2 hrs 4 hrs p-value</th>\n",
       "    </tr>\n",
       "  </thead>\n",
       "  <tbody>\n",
       "    <tr>\n",
       "      <th>Gene A</th>\n",
       "      <td>0.1</td>\n",
       "      <td>0.2</td>\n",
       "      <td>0.3</td>\n",
       "      <td>0.1</td>\n",
       "      <td>0.4</td>\n",
       "      <td>0.3</td>\n",
       "    </tr>\n",
       "    <tr>\n",
       "      <th>Gene B</th>\n",
       "      <td>0.3</td>\n",
       "      <td>0.4</td>\n",
       "      <td>0.5</td>\n",
       "      <td>0.2</td>\n",
       "      <td>0.3</td>\n",
       "      <td>0.1</td>\n",
       "    </tr>\n",
       "    <tr>\n",
       "      <th>Gene C</th>\n",
       "      <td>0.8</td>\n",
       "      <td>0.9</td>\n",
       "      <td>1.0</td>\n",
       "      <td>0.3</td>\n",
       "      <td>0.2</td>\n",
       "      <td>0.1</td>\n",
       "    </tr>\n",
       "    <tr>\n",
       "      <th>Gene D</th>\n",
       "      <td>0.5</td>\n",
       "      <td>0.6</td>\n",
       "      <td>0.7</td>\n",
       "      <td>0.4</td>\n",
       "      <td>0.1</td>\n",
       "      <td>0.3</td>\n",
       "    </tr>\n",
       "  </tbody>\n",
       "</table>\n",
       "</div>"
      ],
      "text/plain": [
       "<__main__.ExpressionProfile at 0x111d317f0>"
      ]
     },
     "execution_count": 1,
     "metadata": {},
     "output_type": "execute_result"
    }
   ],
   "source": [
    "from driven import ExpressionProfile\n",
    "\n",
    "toy_data = ExpressionProfile.from_csv(\"toy_data.csv\", index_col=0)\n",
    "toy_data"
   ]
  },
  {
   "cell_type": "markdown",
   "metadata": {},
   "source": [
    "As you can see, we are passing the `index_col` argument of `pandas.read_csv()` due to the format of our .csv file. You can pass in the required arguments of `read_csv()`."
   ]
  },
  {
   "cell_type": "markdown",
   "metadata": {},
   "source": [
    "### Format of .csv file"
   ]
  },
  {
   "cell_type": "markdown",
   "metadata": {},
   "source": [
    "Let's have a look in our `toy_data.csv` file:"
   ]
  },
  {
   "cell_type": "markdown",
   "metadata": {},
   "source": [
    "| <empty> | 0 hr |2 hrs |4 hrs | p-value 0-2 | p-value 0-4 | p-value 2-4 |\n",
    "| ------- | ---- | ---- | ---- | ----------- | ----------- | ----------- |\n",
    "| Gene A  | 0.10 | 0.20 | 0.30 | 0.10        | 0.40        | 0.30        |\n",
    "| Gene B  | 0.30 | 0.40 | 0.50 | 0.20        | 0.30        | 0.10        |\n",
    "| Gene C  | 0.80 | 0.90 | 1.00 | 0.30        | 0.20        | 0.10        |\n",
    "| Gene D  | 0.50 | 0.60 | 0.70 | 0.40        | 0.10        | 0.30        |"
   ]
  },
  {
   "cell_type": "markdown",
   "metadata": {},
   "source": [
    "You can observe that we store the p-values of the data in columns which have \"*p-value*\" in their column name. This is **required** by our internal parser to fix the values correctly. Also an important point to notice is that we have the data in the file ordered in a specific way i.e., |col-1|, |col-2|, |col-3|, |col-1-2 p-value|, |col-1-3 p-value|, |col-2-3 p-value|. This order is **required** as the parsing takes place in a *combination* fashion. "
   ]
  },
  {
   "cell_type": "markdown",
   "metadata": {},
   "source": [
    "## Loading data from pandas.DataFrame"
   ]
  },
  {
   "cell_type": "markdown",
   "metadata": {},
   "source": [
    "Now that we have an understanding of the .csv parsing, let's have a look at how to obtain the data from a `pandas.DataFrame`, since we mentioned that `pandas` is integrated pretty well."
   ]
  },
  {
   "cell_type": "code",
   "execution_count": 2,
   "metadata": {},
   "outputs": [
    {
     "data": {
      "text/html": [
       "<div>\n",
       "<style scoped>\n",
       "    .dataframe tbody tr th:only-of-type {\n",
       "        vertical-align: middle;\n",
       "    }\n",
       "\n",
       "    .dataframe tbody tr th {\n",
       "        vertical-align: top;\n",
       "    }\n",
       "\n",
       "    .dataframe thead th {\n",
       "        text-align: right;\n",
       "    }\n",
       "</style>\n",
       "<table border=\"1\" class=\"dataframe\">\n",
       "  <thead>\n",
       "    <tr style=\"text-align: right;\">\n",
       "      <th></th>\n",
       "      <th>0 hr</th>\n",
       "      <th>2 hrs</th>\n",
       "      <th>4 hrs</th>\n",
       "    </tr>\n",
       "  </thead>\n",
       "  <tbody>\n",
       "    <tr>\n",
       "      <th>Gene A</th>\n",
       "      <td>0.1</td>\n",
       "      <td>0.2</td>\n",
       "      <td>0.3</td>\n",
       "    </tr>\n",
       "    <tr>\n",
       "      <th>Gene B</th>\n",
       "      <td>0.3</td>\n",
       "      <td>0.4</td>\n",
       "      <td>0.5</td>\n",
       "    </tr>\n",
       "    <tr>\n",
       "      <th>Gene C</th>\n",
       "      <td>0.8</td>\n",
       "      <td>0.9</td>\n",
       "      <td>1.0</td>\n",
       "    </tr>\n",
       "    <tr>\n",
       "      <th>Gene D</th>\n",
       "      <td>0.5</td>\n",
       "      <td>0.6</td>\n",
       "      <td>0.7</td>\n",
       "    </tr>\n",
       "  </tbody>\n",
       "</table>\n",
       "</div>"
      ],
      "text/plain": [
       "<__main__.ExpressionProfile at 0x11212dcf8>"
      ]
     },
     "execution_count": 2,
     "metadata": {},
     "output_type": "execute_result"
    }
   ],
   "source": [
    "df = toy_data.data_frame\n",
    "df = df.drop(['0 hr 2 hrs p-value', '0 hr 4 hrs p-value', '2 hrs 4 hrs p-value'], axis=1)\n",
    "modified_toy_data = ExpressionProfile.from_data_frame(df)\n",
    "modified_toy_data"
   ]
  },
  {
   "cell_type": "markdown",
   "metadata": {},
   "source": [
    "Here, we modified the `toy_model` and used that DataFrame to instantiate an `ExpressionProfile`. "
   ]
  }
 ],
 "metadata": {
  "kernelspec": {
   "display_name": "driven",
   "language": "python",
   "name": "driven"
  },
  "language_info": {
   "codemirror_mode": {
    "name": "ipython",
    "version": 3
   },
   "file_extension": ".py",
   "mimetype": "text/x-python",
   "name": "python",
   "nbconvert_exporter": "python",
   "pygments_lexer": "ipython3",
   "version": "3.6.6"
  }
 },
 "nbformat": 4,
 "nbformat_minor": 2
}
